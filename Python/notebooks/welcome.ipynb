{
  "cells": [
    {
      "cell_type": "raw",
      "metadata": {
        "vscode": {
          "languageId": "raw"
        }
      },
      "source": [
        "# Welcome to Your Python Dev Container! 🐍\n",
        "\n",
        "This notebook demonstrates the capabilities of your development environment for **Data Science** and **Cybersecurity** work.\n",
        "\n",
        "## What's Included\n",
        "\n",
        "### Data Science Tools\n",
        "- **pandas** - Data manipulation and analysis\n",
        "- **numpy** - Numerical computing\n",
        "- **scikit-learn** - Machine learning\n",
        "- **matplotlib/seaborn** - Data visualization\n",
        "- **PyTorch** - Deep learning framework\n",
        "\n",
        "### Cybersecurity Tools\n",
        "- **scapy** - Packet manipulation\n",
        "- **cryptography** - Modern cryptographic recipes\n",
        "- **nmap** - Network discovery\n",
        "- **tshark** - Network protocol analyzer\n",
        "\n",
        "Let's explore some examples!\n"
      ]
    },
    {
      "cell_type": "raw",
      "metadata": {
        "vscode": {
          "languageId": "raw"
        }
      },
      "source": [
        "## 📊 Data Science Examples\n"
      ]
    },
    {
      "cell_type": "code",
      "execution_count": null,
      "metadata": {},
      "outputs": [],
      "source": [
        "# Import essential data science libraries\n",
        "import pandas as pd\n",
        "import numpy as np\n",
        "import matplotlib.pyplot as plt\n",
        "import seaborn as sns\n",
        "from sklearn.datasets import load_iris\n",
        "from sklearn.model_selection import train_test_split\n",
        "from sklearn.ensemble import RandomForestClassifier\n",
        "from sklearn.metrics import accuracy_score\n",
        "\n",
        "print(\"✅ Data science libraries imported successfully!\")\n"
      ]
    },
    {
      "cell_type": "code",
      "execution_count": null,
      "metadata": {},
      "outputs": [],
      "source": [
        "# Load and explore the Iris dataset\n",
        "iris = load_iris()\n",
        "df = pd.DataFrame(iris.data, columns=iris.feature_names)\n",
        "df['species'] = iris.target_names[iris.target]\n",
        "\n",
        "print(\"Iris Dataset Info:\")\n",
        "print(f\"Shape: {df.shape}\")\n",
        "print(f\"\\nFirst 5 rows:\")\n",
        "df.head()\n"
      ]
    },
    {
      "cell_type": "code",
      "execution_count": null,
      "metadata": {},
      "outputs": [],
      "source": [
        "# Create a visualization\n",
        "plt.figure(figsize=(10, 6))\n",
        "sns.scatterplot(data=df, x='sepal length (cm)', y='sepal width (cm)', hue='species')\n",
        "plt.title('Iris Dataset: Sepal Length vs Width')\n",
        "plt.show()\n"
      ]
    },
    {
      "cell_type": "code",
      "execution_count": null,
      "metadata": {},
      "outputs": [],
      "source": [
        "# Quick machine learning example\n",
        "X_train, X_test, y_train, y_test = train_test_split(\n",
        "    iris.data, iris.target, test_size=0.3, random_state=42\n",
        ")\n",
        "\n",
        "clf = RandomForestClassifier(n_estimators=100, random_state=42)\n",
        "clf.fit(X_train, y_train)\n",
        "\n",
        "y_pred = clf.predict(X_test)\n",
        "accuracy = accuracy_score(y_test, y_pred)\n",
        "\n",
        "print(f\"🎯 Random Forest Accuracy: {accuracy:.2%}\")\n"
      ]
    },
    {
      "cell_type": "raw",
      "metadata": {
        "vscode": {
          "languageId": "raw"
        }
      },
      "source": [
        "## 🔒 Cybersecurity Examples\n"
      ]
    },
    {
      "cell_type": "code",
      "execution_count": null,
      "metadata": {},
      "outputs": [],
      "source": [
        "# Import cybersecurity libraries\n",
        "from cryptography.fernet import Fernet\n",
        "from cryptography.hazmat.primitives import hashes\n",
        "from cryptography.hazmat.primitives.kdf.pbkdf2 import PBKDF2HMAC\n",
        "import base64\n",
        "import os\n",
        "import hashlib\n",
        "import requests\n",
        "\n",
        "print(\"✅ Cybersecurity libraries imported successfully!\")\n"
      ]
    },
    {
      "cell_type": "raw",
      "metadata": {
        "vscode": {
          "languageId": "raw"
        }
      },
      "source": [
        "## 🛠 Available Tools & Next Steps\n",
        "\n",
        "### Command Line Tools\n",
        "```bash\n",
        "# Network analysis\n",
        "nmap -sn 192.168.1.0/24          # Network discovery\n",
        "tshark -i any -c 10              # Capture 10 packets\n",
        "\n",
        "# File analysis  \n",
        "file suspicious_file.exe         # Identify file type\n",
        "strings binary_file              # Extract strings\n",
        "\n",
        "# Security scanning\n",
        "bandit -r ./                     # Python security linter\n",
        "```\n",
        "\n",
        "### 🚀 Next Steps\n",
        "1. Explore the `projects/`, `data/`, and `scripts/` directories\n",
        "2. Install additional packages in `requirements.txt`\n",
        "3. Customize VS Code extensions\n",
        "4. Start your project!\n",
        "\n",
        "**Happy coding! 🎉**\n"
      ]
    }
  ],
  "metadata": {
    "language_info": {
      "name": "python"
    }
  },
  "nbformat": 4,
  "nbformat_minor": 2
}
